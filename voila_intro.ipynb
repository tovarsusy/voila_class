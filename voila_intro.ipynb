{
 "cells": [
  {
   "cell_type": "markdown",
   "metadata": {},
   "source": [
    "# What is Voila?\n",
    "Voilà turns Jupyter notebooks into stand alone web applications.\n",
    "Each user connecting to the Voilà tornado application gets a dedicated Jupyter kernel which can execute the callbacks to changes in Jupyter interactive widgets.\n",
    "\n",
    "\n",
    "\n",
    "*   By default, Voilà disallows execute requests from the front-end, preventing execution of arbitrary code.\n",
    "*   By default, Voilà runs with the strip_source option, which strips out the input cells from the rendered notebook.\n",
    "\n",
    "___\n",
    "\n",
    "# How to get Started Running Voila Locally:\n",
    "___\n",
    "# Installing Voila\n",
    "Install Voila on your machine locally through either pip or conda\n",
    "\n",
    "*   pip install voila\n",
    "*   conda install -c conda-forge voila\n",
    "\n",
    "voila docs: https://github.com/voila-dashboards/voila \n",
    "___\n",
    "# Installing bqplot\n",
    "Install bqplot on your machine locally through either pip or conda\n",
    "*   pip install bqplot\n",
    "*   conda install -c conda-forge bqplot\n",
    "\n",
    "bqplot docs: https://github.com/bloomberg/bqplot \n",
    "___\n",
    "# Installing ipympl\n",
    "Install ipympl on your machine locally through either pip or conda\n",
    "*   pip install ipympl\n",
    "*   conda install -c conda-forge ipympl\n",
    "___\n",
    "# Running Voila Locally\n",
    "*   Save the notebook.ipynb to your computer\n",
    "*   In a termianl go to where your notebook is located and type: voila notebook_name.ipynb\n",
    "    *   This will open a new tab on your web browser\n",
    "    *   You can make changes to the notebook and update the web application in real time by:\n",
    "        * Save the changes you made to the notebook\n",
    "        * Reload the web application\n",
    "___\n",
    "# Creating Sliders\n",
    "\n",
    "Creates an interactive slider that allows you to square the number"
   ]
  },
  {
   "cell_type": "code",
   "execution_count": 4,
   "metadata": {},
   "outputs": [
    {
     "data": {
      "application/vnd.jupyter.widget-view+json": {
       "model_id": "66b460f2ca7b46d79aa55bd01e7b9110",
       "version_major": 2,
       "version_minor": 0
      },
      "text/plain": [
       "VBox(children=(FloatSlider(value=2.0, description='$x$'), FloatText(value=0.0, description='$x^2$', disabled=T…"
      ]
     },
     "metadata": {},
     "output_type": "display_data"
    }
   ],
   "source": [
    "#-----------------\n",
    "# Demonstrate how voila can render Jupyter notebooks with interactions requiring a roundtrip to the kernel.\n",
    "#-----------------\n",
    "\n",
    "import ipywidgets as widgets                                       # Need widget for slider creation\n",
    "\n",
    "slider = widgets.FloatSlider(description='$x$', value=2)           # Creating slider with starting value display\n",
    "text = widgets.FloatText(disabled=True, description='$x^2$')       # Creating output of slider display\n",
    "\n",
    "def compute(*ignore):\n",
    "    text.value = str(slider.value ** 2)                            # Creating a function for the slider\n",
    "\n",
    "slider.observe(compute, 'value')                                   # Telling the slider to square the number\n",
    "\n",
    "widgets.VBox([slider, text])"
   ]
  },
  {
   "cell_type": "markdown",
   "metadata": {},
   "source": [
    "Creates two interactive sliders that allow you to multiply numbers"
   ]
  },
  {
   "cell_type": "code",
   "execution_count": 5,
   "metadata": {},
   "outputs": [
    {
     "data": {
      "application/vnd.jupyter.widget-view+json": {
       "model_id": "d3164fbd948c48a6a38c1ba70dae4c45",
       "version_major": 2,
       "version_minor": 0
      },
      "text/plain": [
       "HBox(children=(VBox(children=(IntSlider(value=0), IntSlider(value=0))), Output()))"
      ]
     },
     "metadata": {},
     "output_type": "display_data"
    }
   ],
   "source": [
    "#---------------\n",
    "# Interactive sliders\n",
    "#---------------\n",
    "\n",
    "from ipywidgets import HBox, VBox, IntSlider, interactive_output\n",
    "from IPython.display import display\n",
    "\n",
    "a = IntSlider()\n",
    "b = IntSlider()\n",
    "\n",
    "def f(a, b):\n",
    "    print(\"{} * {} = {}\".format(a, b, a * b))\n",
    "\n",
    "out = interactive_output(f, { \"a\": a, \"b\": b })\n",
    "\n",
    "display(HBox([VBox([a, b]), out]))"
   ]
  },
  {
   "cell_type": "markdown",
   "metadata": {},
   "source": [
    "# Tables in Voila\n",
    "Table display in voila"
   ]
  },
  {
   "cell_type": "code",
   "execution_count": 6,
   "metadata": {
    "scrolled": true
   },
   "outputs": [
    {
     "data": {
      "text/html": [
       "<div>\n",
       "<style scoped>\n",
       "    .dataframe tbody tr th:only-of-type {\n",
       "        vertical-align: middle;\n",
       "    }\n",
       "\n",
       "    .dataframe tbody tr th {\n",
       "        vertical-align: top;\n",
       "    }\n",
       "\n",
       "    .dataframe thead th {\n",
       "        text-align: right;\n",
       "    }\n",
       "</style>\n",
       "<table border=\"1\" class=\"dataframe\">\n",
       "  <thead>\n",
       "    <tr style=\"text-align: right;\">\n",
       "      <th></th>\n",
       "      <th>sepal_length</th>\n",
       "      <th>sepal_width</th>\n",
       "      <th>petal_length</th>\n",
       "      <th>petal_width</th>\n",
       "      <th>species</th>\n",
       "    </tr>\n",
       "  </thead>\n",
       "  <tbody>\n",
       "    <tr>\n",
       "      <th>0</th>\n",
       "      <td>5.1</td>\n",
       "      <td>3.5</td>\n",
       "      <td>1.4</td>\n",
       "      <td>0.2</td>\n",
       "      <td>setosa</td>\n",
       "    </tr>\n",
       "    <tr>\n",
       "      <th>1</th>\n",
       "      <td>4.9</td>\n",
       "      <td>3.0</td>\n",
       "      <td>1.4</td>\n",
       "      <td>0.2</td>\n",
       "      <td>setosa</td>\n",
       "    </tr>\n",
       "    <tr>\n",
       "      <th>2</th>\n",
       "      <td>4.7</td>\n",
       "      <td>3.2</td>\n",
       "      <td>1.3</td>\n",
       "      <td>0.2</td>\n",
       "      <td>setosa</td>\n",
       "    </tr>\n",
       "    <tr>\n",
       "      <th>3</th>\n",
       "      <td>4.6</td>\n",
       "      <td>3.1</td>\n",
       "      <td>1.5</td>\n",
       "      <td>0.2</td>\n",
       "      <td>setosa</td>\n",
       "    </tr>\n",
       "    <tr>\n",
       "      <th>4</th>\n",
       "      <td>5.0</td>\n",
       "      <td>3.6</td>\n",
       "      <td>1.4</td>\n",
       "      <td>0.2</td>\n",
       "      <td>setosa</td>\n",
       "    </tr>\n",
       "    <tr>\n",
       "      <th>...</th>\n",
       "      <td>...</td>\n",
       "      <td>...</td>\n",
       "      <td>...</td>\n",
       "      <td>...</td>\n",
       "      <td>...</td>\n",
       "    </tr>\n",
       "    <tr>\n",
       "      <th>145</th>\n",
       "      <td>6.7</td>\n",
       "      <td>3.0</td>\n",
       "      <td>5.2</td>\n",
       "      <td>2.3</td>\n",
       "      <td>virginica</td>\n",
       "    </tr>\n",
       "    <tr>\n",
       "      <th>146</th>\n",
       "      <td>6.3</td>\n",
       "      <td>2.5</td>\n",
       "      <td>5.0</td>\n",
       "      <td>1.9</td>\n",
       "      <td>virginica</td>\n",
       "    </tr>\n",
       "    <tr>\n",
       "      <th>147</th>\n",
       "      <td>6.5</td>\n",
       "      <td>3.0</td>\n",
       "      <td>5.2</td>\n",
       "      <td>2.0</td>\n",
       "      <td>virginica</td>\n",
       "    </tr>\n",
       "    <tr>\n",
       "      <th>148</th>\n",
       "      <td>6.2</td>\n",
       "      <td>3.4</td>\n",
       "      <td>5.4</td>\n",
       "      <td>2.3</td>\n",
       "      <td>virginica</td>\n",
       "    </tr>\n",
       "    <tr>\n",
       "      <th>149</th>\n",
       "      <td>5.9</td>\n",
       "      <td>3.0</td>\n",
       "      <td>5.1</td>\n",
       "      <td>1.8</td>\n",
       "      <td>virginica</td>\n",
       "    </tr>\n",
       "  </tbody>\n",
       "</table>\n",
       "<p>150 rows × 5 columns</p>\n",
       "</div>"
      ],
      "text/plain": [
       "     sepal_length  sepal_width  petal_length  petal_width    species\n",
       "0             5.1          3.5           1.4          0.2     setosa\n",
       "1             4.9          3.0           1.4          0.2     setosa\n",
       "2             4.7          3.2           1.3          0.2     setosa\n",
       "3             4.6          3.1           1.5          0.2     setosa\n",
       "4             5.0          3.6           1.4          0.2     setosa\n",
       "..            ...          ...           ...          ...        ...\n",
       "145           6.7          3.0           5.2          2.3  virginica\n",
       "146           6.3          2.5           5.0          1.9  virginica\n",
       "147           6.5          3.0           5.2          2.0  virginica\n",
       "148           6.2          3.4           5.4          2.3  virginica\n",
       "149           5.9          3.0           5.1          1.8  virginica\n",
       "\n",
       "[150 rows x 5 columns]"
      ]
     },
     "execution_count": 6,
     "metadata": {},
     "output_type": "execute_result"
    }
   ],
   "source": [
    "#---------------\n",
    "# Tables in voila\n",
    "#---------------\n",
    "\n",
    "import pandas as pd\n",
    "\n",
    "iris = pd.read_csv('https://raw.githubusercontent.com/mwaskom/seaborn-data/master/iris.csv')\n",
    "iris"
   ]
  },
  {
   "cell_type": "markdown",
   "metadata": {},
   "source": [
    "# Interactive Line Graph\n",
    "Creates an interactive line graph.\n",
    "*   Allows you to move in any direction\n",
    "*   Reset button\n",
    "*   Save image button"
   ]
  },
  {
   "cell_type": "code",
   "execution_count": 7,
   "metadata": {},
   "outputs": [
    {
     "data": {
      "application/vnd.jupyter.widget-view+json": {
       "model_id": "3f994963467040d2bb0eb699a6fbad86",
       "version_major": 2,
       "version_minor": 0
      },
      "text/plain": [
       "VBox(children=(Figure(axes=[Axis(scale=LinearScale()), Axis(orientation='vertical', scale=LinearScale())], fig…"
      ]
     },
     "metadata": {},
     "output_type": "display_data"
    }
   ],
   "source": [
    "#------------------------------------------------------------------------#\n",
    "# Demonstrate how voila can render custom Jupyter widgets such as bqplot #\n",
    "#------------------------------------------------------------------------#\n",
    "\n",
    "import warnings\n",
    "warnings.filterwarnings('ignore')\n",
    "import numpy as np\n",
    "from bqplot import pyplot as plt\n",
    "\n",
    "plt.figure(1, title='Line Chart')\n",
    "np.random.seed(0)\n",
    "n = 200\n",
    "x = np.linspace(0.0, 10.0, n)\n",
    "y = np.cumsum(np.random.randn(n))\n",
    "plt.plot(x, y)\n",
    "plt.show()"
   ]
  },
  {
   "cell_type": "markdown",
   "metadata": {},
   "source": [
    "# Multiplication Tables\n",
    "Creates a grid in which you can choose which multiplication table you want to practice\n",
    "*   Tables consist of numbers 1-10\n",
    "*   Tables check your answer for correctness"
   ]
  },
  {
   "cell_type": "code",
   "execution_count": 8,
   "metadata": {},
   "outputs": [
    {
     "data": {
      "application/vnd.jupyter.widget-view+json": {
       "model_id": "5f7c2817b92d442389fa536834c310d1",
       "version_major": 2,
       "version_minor": 0
      },
      "text/plain": [
       "GridspecLayout(children=(Dropdown(index=1, layout=Layout(grid_area='widget001'), options=(1, 2, 3, 4, 5, 6, 7,…"
      ]
     },
     "metadata": {},
     "output_type": "display_data"
    }
   ],
   "source": [
    "#----------------------------------------------------------------------------------#\n",
    "# Demonstrates how voila can render different Jupyter widgets using GridspecLayout #\n",
    "#----------------------------------------------------------------------------------#\n",
    "\n",
    "from ipywidgets import GridspecLayout, Button, BoundedIntText, Valid, Layout, Dropdown\n",
    "\n",
    "def create_expanded_button(description, button_style):\n",
    "    return Button(description=description, button_style=button_style, layout=Layout(height='auto', width='auto'))\n",
    " \n",
    "rows = 11\n",
    "columns = 6\n",
    "\n",
    "gs = GridspecLayout(rows, columns)\n",
    "\n",
    "def on_result_change(change):\n",
    "    row = int(change[\"owner\"].layout.grid_row)\n",
    "    gs[row, 5].value = gs[0, 0].value * row == change[\"new\"]\n",
    "    \n",
    "def on_multipler_change(change):\n",
    "    for i in range(1, rows):\n",
    "        gs[i, 0].description = str(change[\"new\"])\n",
    "        gs[i, 4].max = change[\"new\"] * 10\n",
    "        gs[i, 4].value = 1\n",
    "        gs[i, 4].step = change[\"new\"]\n",
    "        gs[i, 5].value = False\n",
    "\n",
    "gs[0, 0] = Dropdown(\n",
    "    options=[1, 2, 3, 4, 5, 6, 7, 8, 9, 10],\n",
    "    value=2,\n",
    ")\n",
    "gs[0, 0].observe(on_multipler_change, names=\"value\")\n",
    "multiplier = gs[0, 0].value\n",
    "\n",
    "for i in range(1, rows):\n",
    "    gs[i, 0] = create_expanded_button(str(multiplier), \"\")\n",
    "    gs[i, 1] = create_expanded_button(\"*\", \"\")\n",
    "    gs[i, 2] = create_expanded_button(str(i), \"info\")\n",
    "    gs[i, 3] = create_expanded_button(\"=\", \"\")\n",
    "\n",
    "    gs[i, 4] = BoundedIntText(\n",
    "        min=0,\n",
    "        max=multiplier * 10,\n",
    "        layout=Layout(grid_row=str(i)),\n",
    "        value=1,\n",
    "        step=multiplier,\n",
    "        disabled=False\n",
    "    )\n",
    "\n",
    "    gs[i, 5] = Valid(\n",
    "        value=False,\n",
    "        description='Valid!',\n",
    "    )\n",
    "\n",
    "    gs[i, 4].observe(on_result_change, names='value')\n",
    "\n",
    "gs"
   ]
  },
  {
   "cell_type": "markdown",
   "metadata": {},
   "source": [
    "# Interactive Graphs\n",
    "This demo uses voila to render a notebook to a custom HTML page using gridstack.js for the layout of each output. In the cell metadata you can change the default cell with and height (in grid units between 1 and 12) by specifying.\n",
    "*   grid_row\n",
    "*   grid_columns\n",
    "\n"
   ]
  },
  {
   "cell_type": "code",
   "execution_count": 17,
   "metadata": {},
   "outputs": [
    {
     "data": {
      "application/vnd.jupyter.widget-view+json": {
       "model_id": "0dd2246d81514a84998392dbe1c8608b",
       "version_major": 2,
       "version_minor": 0
      },
      "text/plain": [
       "Label(value='Selected: 0')"
      ]
     },
     "metadata": {},
     "output_type": "display_data"
    }
   ],
   "source": [
    "import numpy as np\n",
    "n = 200\n",
    "\n",
    "x = np.linspace(0.0, 10.0, n)\n",
    "y = np.cumsum(np.random.randn(n)*10).astype(int)\n",
    "\n",
    "\n",
    "import ipywidgets as widgets\n",
    "\n",
    "\n",
    "label_selected = widgets.Label(value=\"Selected: 0\")\n",
    "label_selected"
   ]
  },
  {
   "cell_type": "code",
   "execution_count": 18,
   "metadata": {
    "scrolled": true
   },
   "outputs": [
    {
     "data": {
      "application/vnd.jupyter.widget-view+json": {
       "model_id": "0f681b3c36034e71bbaf203cc1be00d1",
       "version_major": 2,
       "version_minor": 0
      },
      "text/plain": [
       "Figure(axes=[Axis(orientation='vertical', scale=LinearScale()), Axis(scale=LinearScale(max=185.0, min=3.0))], …"
      ]
     },
     "metadata": {},
     "output_type": "display_data"
    }
   ],
   "source": [
    "import numpy as np\n",
    "from bqplot import pyplot as plt\n",
    "import bqplot\n",
    "\n",
    "fig_hist = plt.figure( title='Histogram')\n",
    "np.random.seed(42)\n",
    "hist = plt.hist(y, bins=25)\n",
    "hist.scales['sample'].min = float(y.min())\n",
    "hist.scales['sample'].max = float(y.max())\n",
    "fig_hist\n"
   ]
  },
  {
   "cell_type": "code",
   "execution_count": 19,
   "metadata": {},
   "outputs": [
    {
     "data": {
      "application/vnd.jupyter.widget-view+json": {
       "model_id": "e10aee4a7145472b85e8168c14d54d2e",
       "version_major": 2,
       "version_minor": 0
      },
      "text/plain": [
       "Figure(axes=[Axis(scale=LinearScale()), Axis(orientation='vertical', scale=LinearScale())], fig_margin={'top':…"
      ]
     },
     "metadata": {},
     "output_type": "display_data"
    }
   ],
   "source": [
    "fig_hist.layout.width = 'auto'\n",
    "fig_hist.layout.height = 'auto'\n",
    "fig_hist.layout.min_height = '300px' # so it shows nicely in the notebook\n",
    "fig_hist.layout.flex = '1'\n",
    "\n",
    "\n",
    "\n",
    "import numpy as np\n",
    "from bqplot import pyplot as plt\n",
    "import bqplot\n",
    "\n",
    "fig_line = plt.figure( title='Line Chart')\n",
    "np.random.seed(42)\n",
    "n = 200\n",
    "p = plt.plot(x, y)\n",
    "\n",
    "\n",
    "fig_line.layout.width = 'auto'\n",
    "fig_line.layout.height = 'auto'\n",
    "fig_line.layout.min_height = '300px' # so it shows nicely in the notebook\n",
    "fig_line.layout.flex = '1'\n",
    "\n",
    "\n",
    "brushintsel = plt.brush_int_selector()\n",
    "\n",
    "def update_range(*ignore):\n",
    "    if brushintsel.selected is not None and len(brushintsel.selected) == 2:\n",
    "        xmin, xmax = brushintsel.selected\n",
    "        mask = (x > xmin) & (x < xmax)\n",
    "        hist.sample = y[mask]\n",
    "\n",
    "brushintsel.observe(update_range, 'selected')\n",
    "fig_line.interaction = brushintsel\n",
    "fig_line"
   ]
  },
  {
   "cell_type": "markdown",
   "metadata": {},
   "source": [
    "# Example Notebooks\n",
    "\n",
    "Voila Demo with custom dashboard\n",
    "*   https://github.com/maartenbreddels/voila-demo\n",
    "*   https://hub.gke.mybinder.org/user/maartenbreddels-voila-demo-03dlhgjj/voila/render/voila-vuetify.ipynb?token=wG5FbUjQQDqVX4F8vPORHg\n",
    "\n",
    "\n",
    "___\n",
    "# Interesting Links!!\n",
    "*   https://github.com/dhaitz/machine-learning-interactive-visualization\n",
    "*   https://blog.jupyter.org/a-gallery-of-voil%C3%A0-examples-a2ce7ef99130 \n",
    "*   https://par.nsf.gov/servlets/purl/10042066\n",
    "___"
   ]
  },
  {
   "cell_type": "markdown",
   "metadata": {},
   "source": [
    "# Deploying Voila\n",
    "\n",
    "1.  Make sure the repository is publicly available (on GitHub, Gitlab or as a gist).\n",
    "2.  Follow this guide to prepare the repository. For simple deployments, steps listed in Setup an example project will be sufficient.\n",
    "    *   Need a content file: notebook.ipynb\n",
    "    *   Need a requirments file (libraries used in notebook): requirements.txt\n",
    "    *   Need an enviornment configuration file: file.yml (file that specifies a conda environment)\n",
    "3.  Go to https://mybinder.org/ and enter the URL of the repository.\n",
    "4.  In Git branch, tag, or commit input: master\n",
    "5.  In Path to a notebook file, select URL and use the Voilà endpoint: /voila/render/path/to/notebook.ipynb\n",
    "    * Ex. voila/render/voila_intro.ipynb\n",
    "6.  Click Launch.\n",
    "7.  Binder will trigger a new build if this is the first launch (or if there has been new changes since the last build). This might take a few minutes to complete. If an image is already available, the server will be able to start within a few seconds.\n",
    "    \n",
    "    \n",
    "Voila Docs: https://voila.readthedocs.io/en/stable/deploy.html\n",
    "___\n",
    "voila_intro github: https://github.com/tovarsusy/voila_class"
   ]
  },
  {
   "cell_type": "code",
   "execution_count": null,
   "metadata": {},
   "outputs": [],
   "source": []
  }
 ],
 "metadata": {
  "kernelspec": {
   "display_name": "Python 3",
   "language": "python",
   "name": "python3"
  },
  "language_info": {
   "codemirror_mode": {
    "name": "ipython",
    "version": 3
   },
   "file_extension": ".py",
   "mimetype": "text/x-python",
   "name": "python",
   "nbconvert_exporter": "python",
   "pygments_lexer": "ipython3",
   "version": "3.7.6"
  }
 },
 "nbformat": 4,
 "nbformat_minor": 2
}
